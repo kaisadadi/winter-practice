{
 "cells": [
  {
   "cell_type": "code",
   "execution_count": 2,
   "metadata": {
    "collapsed": false
   },
   "outputs": [
    {
     "name": "stdout",
     "output_type": "stream",
     "text": [
      "cuda\n"
     ]
    }
   ],
   "source": [
    "import torch\n",
    "import torch.nn as nn\n",
    "import argparse\n",
    "from torchvision import models, transforms\n",
    "import os\n",
    "import pycocotools.coco as COCO\n",
    "import torch.utils.data as data\n",
    "\n",
    "parser = argparse.ArgumentParser()\n",
    "parser.add_argument('--gpu', type=str, default='0')\n",
    "parser.add_argument('--epoch', type=int, default='64')\n",
    "config = parser.parse_args(['--gpu', '0', '--epoch', '64'])\n",
    "\n",
    "device = torch.device('cuda' if torch.cuda.is_available() else 'cpu')\n",
    "\n",
    "print(device)"
   ]
  },
  {
   "cell_type": "code",
   "execution_count": 3,
   "metadata": {
    "collapsed": false
   },
   "outputs": [],
   "source": [
    "class CocoDataset(data.Dataset):\n",
    "    def __init__(self, root, vocab, transform, annotation_file=None):\n",
    "        if annotation_file == None:\n",
    "            throw (\"Load annotation file Error\")\n",
    "        self.root = root\n",
    "        self.coco = COCO(annotation_file)\n",
    "        self.vocab = vocab\n",
    "        self.transform = transform\n",
    "    \n",
    "    def __getitem__(self, index):\n",
    "        image_id = self.coco.ann[index]\n",
    "        "
   ]
  },
  {
   "cell_type": "code",
   "execution_count": null,
   "metadata": {
    "collapsed": true
   },
   "outputs": [],
   "source": [
    "class CNNencoder(nn.Module):\n",
    "    def __init__(self, embedding_size):\n",
    "        super(CNNencoder, self).__init__()\n",
    "        resnet = models.resnet152(pretrained=True)\n",
    "        self.resnet = nn.Sequential(*list(resnet.children())[:-1])\n",
    "        self.linear = nn.Linear(resnet.fc.in_features, embedding_size)\n",
    "        self.bn = nn.BatchNorm1d(embedding_size, momentum=0.01)\n",
    "    \n",
    "    def forward(self, x):\n",
    "        with torch.no_grad():\n",
    "            x = self.resnet(x)\n",
    "        x = x.view(x.shape[0], -1)\n",
    "        x = self.bn(self.linear(x))\n",
    "        return x\n",
    "\n",
    "class RNNdecoder(nn.Module):\n",
    "    def __init__(self, embedding_size, hidden_size, voc_size, num_layers, max_length=20):\n",
    "        super(RNNdecoder, self).__init__()\n",
    "        self.embedding = nn.Embedding(voc_size, embedding_size)\n",
    "        self.rnn = nn.LSTM(embedding_size, hidden_size, num_layers, batch_first = True)\n",
    "        self.linear = nn.Linear(hidden_size, voc_size)\n",
    "        self.max_length = max_length\n",
    "    \n",
    "    def forward(self, features, captions, lengths):\n",
    "        embeddings = self.embedding(captions)\n",
    "        #每一个都与全局feature进行concat\n",
    "        embeddings = torch.cat((features.unsqueeze(1), embeddings), 1)\n",
    "        #把序列压紧\n",
    "        packed_embeddings = nn.utils.rnn.pack_padded_sequence(embedding, lengths, True)\n",
    "        print(packed_embeddings.shape)\n",
    "        h, _ = self.rnn(packed_embeddings)\n",
    "        outputs = self.linear(h[0])\n",
    "        return outputs\n",
    "\n",
    "    def sample(self, features, states = None):\n",
    "        inputs = features.unsqueeze(1)\n",
    "        output_id = []\n",
    "        for i in range(self.max_length):\n",
    "            _, h, states = self.rnn(inputs, states)\n",
    "            output = self.linear(h.squeeze(1))\n",
    "            prediction = torch.argmax(output, dim=1)\n",
    "            output_id.append(prediction)\n",
    "            inputs = self.embedding(prediction).unsqueeze(1)\n",
    "        return torch.stack(output_id, 1)\n",
    "    "
   ]
  },
  {
   "cell_type": "code",
   "execution_count": null,
   "metadata": {
    "collapsed": true
   },
   "outputs": [],
   "source": []
  }
 ],
 "metadata": {
  "anaconda-cloud": {},
  "kernelspec": {
   "display_name": "Python [conda env:winter]",
   "language": "python",
   "name": "conda-env-winter-py"
  },
  "language_info": {
   "codemirror_mode": {
    "name": "ipython",
    "version": 3
   },
   "file_extension": ".py",
   "mimetype": "text/x-python",
   "name": "python",
   "nbconvert_exporter": "python",
   "pygments_lexer": "ipython3",
   "version": "3.6.8"
  }
 },
 "nbformat": 4,
 "nbformat_minor": 1
}
