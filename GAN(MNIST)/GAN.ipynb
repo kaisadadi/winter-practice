{
 "cells": [
  {
   "cell_type": "code",
   "execution_count": 4,
   "metadata": {
    "collapsed": false
   },
   "outputs": [
    {
     "name": "stdout",
     "output_type": "stream",
     "text": [
      "cuda\n"
     ]
    }
   ],
   "source": [
    "import torch\n",
    "import torch.nn as nn\n",
    "from torchvision import transforms, datasets\n",
    "import matplotlib.pyplot as plt\n",
    "%matplotlib inline\n",
    "import argparse\n",
    "import os\n",
    "\n",
    "parser = argparse.ArgumentParser()\n",
    "parser.add_argument('--gpu', type=str, default='0')\n",
    "parser.add_argument('--epoch', type=int, default='64')\n",
    "config = parser.parse_args(['--gpu', '0', '--epoch', '64'])\n",
    "\n",
    "os.environ[\"CUDA_VISIBLE_DEVICES\"] = str(config.gpu)\n",
    "device = torch.device('cuda' if torch.cuda.is_available else 'cpu')\n",
    "print(device)\n",
    "\n",
    "latent_size = 64\n",
    "hidden_size = 256\n",
    "image_size = 784\n",
    "num_epochs = 200\n",
    "batch_size = 100"
   ]
  },
  {
   "cell_type": "code",
   "execution_count": 5,
   "metadata": {
    "collapsed": true
   },
   "outputs": [],
   "source": [
    "class Distinguisher(nn.Module):\n",
    "    def __init__(self):\n",
    "        super(Distinguisher, self).__init__()\n",
    "        self.net = nn.Sequential(\n",
    "            nn.Linear(image_size, hidden_size),\n",
    "            nn.LeakyReLU(0.2),\n",
    "            nn.Linear(hidden_size, hidden_size),\n",
    "            nn.LeakyReLU(0.2),\n",
    "            nn.Linear(hidden_size, 1),\n",
    "            nn.Sigmoid()\n",
    "        )\n",
    "    def forward(self, x):\n",
    "        return self.net(x)\n",
    "\n",
    "class Generator(nn.Module):\n",
    "    def __init__(self):\n",
    "        super(Generator, self).__init__()\n",
    "        self.net = nn.Sequential(\n",
    "            nn.Linear(latent_size, hidden_size),\n",
    "            nn.ReLU(),\n",
    "            nn.Linear(hidden_size, hidden_size),\n",
    "            nn.ReLU(),\n",
    "            nn.Linear(hidden_size, image_size),\n",
    "            nn.Tanh()\n",
    "        )\n",
    "    def forward(self, x):\n",
    "        return self.net(x)\n"
   ]
  },
  {
   "cell_type": "code",
   "execution_count": null,
   "metadata": {
    "collapsed": false
   },
   "outputs": [
    {
     "name": "stdout",
     "output_type": "stream",
     "text": [
      "preparation done\n",
      "epoch: 0, step: 100, d_loss: 1.1489, g_loss:0.9024, real_score: 0.59,fake_score: 0.41\n",
      "epoch: 0, step: 200, d_loss: 0.8314, g_loss:1.0071, real_score: 0.80,fake_score: 0.37\n",
      "epoch: 0, step: 300, d_loss: 0.8244, g_loss:1.4304, real_score: 0.71,fake_score: 0.24\n",
      "epoch: 0, step: 400, d_loss: 0.3087, g_loss:2.1932, real_score: 0.87,fake_score: 0.11\n",
      "epoch: 0, step: 500, d_loss: 0.6750, g_loss:1.6724, real_score: 0.78,fake_score: 0.21\n",
      "epoch: 0, step: 600, d_loss: 0.9025, g_loss:1.5004, real_score: 0.81,fake_score: 0.25\n",
      "tensor([6], device='cuda:0')\n",
      "tensor([[0.5285]], device='cuda:0', grad_fn=<IndexBackward>)\n"
     ]
    },
    {
     "data": {
      "image/png": "[encoded data removed]",
      "text/plain": [
       "<Figure size 432x288 with 1 Axes>"
      ]
     },
     "metadata": {
      "needs_background": "light"
     },
     "output_type": "display_data"
    },
    {
     "name": "stdout",
     "output_type": "stream",
     "text": [
      "epoch: 1, step: 100, d_loss: 1.2131, g_loss:1.1325, real_score: 0.62,fake_score: 0.35\n",
      "epoch: 1, step: 200, d_loss: 0.6751, g_loss:1.5069, real_score: 0.76,fake_score: 0.24\n",
      "epoch: 1, step: 300, d_loss: 1.0769, g_loss:0.7756, real_score: 0.72,fake_score: 0.47\n",
      "epoch: 1, step: 400, d_loss: 2.6220, g_loss:0.3182, real_score: 0.39,fake_score: 0.73\n",
      "epoch: 1, step: 500, d_loss: 2.7135, g_loss:0.3688, real_score: 0.33,fake_score: 0.69\n",
      "epoch: 1, step: 600, d_loss: 1.9594, g_loss:0.6051, real_score: 0.45,fake_score: 0.55\n",
      "tensor([95], device='cuda:0')\n",
      "tensor([[0.7303]], device='cuda:0', grad_fn=<IndexBackward>)\n"
     ]
    },
    {
     "data": {
      "image/png": "[encoded data removed]",
      "text/plain": [
       "<Figure size 432x288 with 1 Axes>"
      ]
     },
     "metadata": {
      "needs_background": "light"
     },
     "output_type": "display_data"
    },
    {
     "name": "stdout",
     "output_type": "stream",
     "text": [
      "epoch: 2, step: 100, d_loss: 2.1740, g_loss:0.4762, real_score: 0.39,fake_score: 0.62\n",
      "epoch: 2, step: 200, d_loss: 1.5212, g_loss:0.7571, real_score: 0.50,fake_score: 0.47\n",
      "epoch: 2, step: 300, d_loss: 0.9040, g_loss:1.1588, real_score: 0.64,fake_score: 0.32\n",
      "epoch: 2, step: 400, d_loss: 2.2472, g_loss:0.3445, real_score: 0.41,fake_score: 0.71\n",
      "epoch: 2, step: 500, d_loss: 0.9692, g_loss:0.9543, real_score: 0.64,fake_score: 0.39\n",
      "epoch: 2, step: 600, d_loss: 1.5321, g_loss:0.5578, real_score: 0.53,fake_score: 0.57\n",
      "tensor([28], device='cuda:0')\n",
      "tensor([[0.6684]], device='cuda:0', grad_fn=<IndexBackward>)\n"
     ]
    },
    {
     "data": {
      "image/png": "[encoded data removed]",
      "text/plain": [
       "<Figure size 432x288 with 1 Axes>"
      ]
     },
     "metadata": {
      "needs_background": "light"
     },
     "output_type": "display_data"
    },
    {
     "name": "stdout",
     "output_type": "stream",
     "text": [
      "epoch: 3, step: 100, d_loss: 1.5442, g_loss:0.6205, real_score: 0.49,fake_score: 0.54\n",
      "epoch: 3, step: 200, d_loss: 0.7835, g_loss:1.1272, real_score: 0.69,fake_score: 0.32\n",
      "epoch: 3, step: 300, d_loss: 1.2471, g_loss:0.7342, real_score: 0.57,fake_score: 0.48\n",
      "epoch: 3, step: 400, d_loss: 0.8174, g_loss:1.1022, real_score: 0.69,fake_score: 0.34\n",
      "epoch: 3, step: 500, d_loss: 1.4576, g_loss:0.6211, real_score: 0.54,fake_score: 0.54\n",
      "epoch: 3, step: 600, d_loss: 2.4401, g_loss:0.3926, real_score: 0.31,fake_score: 0.68\n",
      "tensor([34], device='cuda:0')\n",
      "tensor([[0.7615]], device='cuda:0', grad_fn=<IndexBackward>)\n"
     ]
    },
    {
     "data": {
      "image/png": "[encoded data removed]",
      "text/plain": [
       "<Figure size 432x288 with 1 Axes>"
      ]
     },
     "metadata": {
      "needs_background": "light"
     },
     "output_type": "display_data"
    },
    {
     "name": "stdout",
     "output_type": "stream",
     "text": [
      "epoch: 4, step: 100, d_loss: 1.5493, g_loss:0.6449, real_score: 0.50,fake_score: 0.53\n",
      "epoch: 4, step: 200, d_loss: 1.0489, g_loss:0.9439, real_score: 0.62,fake_score: 0.39\n",
      "epoch: 4, step: 300, d_loss: 0.9623, g_loss:1.0119, real_score: 0.66,fake_score: 0.37\n",
      "epoch: 4, step: 400, d_loss: 1.6516, g_loss:0.7087, real_score: 0.46,fake_score: 0.50\n",
      "epoch: 4, step: 500, d_loss: 1.7591, g_loss:0.6736, real_score: 0.47,fake_score: 0.51\n",
      "epoch: 4, step: 600, d_loss: 1.8810, g_loss:0.6025, real_score: 0.47,fake_score: 0.55\n",
      "tensor([91], device='cuda:0')\n",
      "tensor([[0.7329]], device='cuda:0', grad_fn=<IndexBackward>)\n"
     ]
    },
    {
     "data": {
      "image/png": "[encoded data removed]",
      "text/plain": [
       "<Figure size 432x288 with 1 Axes>"
      ]
     },
     "metadata": {
      "needs_background": "light"
     },
     "output_type": "display_data"
    },
    {
     "name": "stdout",
     "output_type": "stream",
     "text": [
      "epoch: 5, step: 100, d_loss: 1.1177, g_loss:1.1579, real_score: 0.60,fake_score: 0.33\n"
     ]
    }
   ],
   "source": [
    "transform = transforms.Compose([\n",
    "        transforms.ToTensor(),\n",
    "        transforms.Normalize(mean=(0.5, 0.5, 0.5), std=(0.5, 0.5, 0.5))\n",
    "    ])\n",
    "mnist_dataset = datasets.MNIST(root=\"../../data\", train=True, \n",
    "                               download=True, transform=transform)\n",
    "data_loader = torch.utils.data.DataLoader(dataset=mnist_dataset, \n",
    "                                         batch_size=batch_size,\n",
    "                                         shuffle=True)\n",
    "G_net = Generator().cuda()\n",
    "D_net = Distinguisher().to(device)\n",
    "G_optim = torch.optim.Adam(G_net.parameters(), lr=2e-4)\n",
    "D_optim = torch.optim.Adam(D_net.parameters(), lr=2e-4)\n",
    "\n",
    "print(\"preparation done\")\n",
    "for epoch in range(config.epoch):\n",
    "    for idx, (images, _) in enumerate(data_loader):\n",
    "        images = images.reshape(batch_size, -1).to(device)\n",
    "        real_labels = torch.ones(batch_size, 1).to(device)\n",
    "        fake_labels = torch.zeros(batch_size, 1).to(device)\n",
    "        #train D_net\n",
    "        if idx % 2 == 0:\n",
    "            outputs = D_net(images)\n",
    "            d_loss = nn.BCELoss()(outputs, real_labels)\n",
    "            real_score = torch.mean(outputs).item()\n",
    "        \n",
    "            gaussian_noise = torch.randn(batch_size, latent_size).to(device)\n",
    "            fake_images = G_net(gaussian_noise)\n",
    "            outputs = D_net(fake_images.view(batch_size, -1))\n",
    "            d_loss += nn.BCELoss()(outputs, fake_labels)\n",
    "        \n",
    "            G_optim.zero_grad()\n",
    "            D_optim.zero_grad()\n",
    "            d_loss.backward()\n",
    "            D_optim.step()\n",
    "        \n",
    "        #train G_net\n",
    "        gaussian_noise = torch.randn(batch_size, latent_size).to(device)\n",
    "        fake_images = G_net(gaussian_noise)\n",
    "        outputs = D_net(fake_images.view(batch_size, -1))\n",
    "        fake_score = torch.mean(outputs).item()\n",
    "        g_loss = nn.BCELoss()(outputs, real_labels)\n",
    "        G_optim.zero_grad()\n",
    "        D_optim.zero_grad()\n",
    "        g_loss.backward()\n",
    "        G_optim.step()\n",
    "        \n",
    "        if (idx + 1) % 100 == 0:\n",
    "            print('epoch: {}, step: {}, d_loss: {:.4f}, g_loss:{:.4f}, real_score: {:.2f},fake_score: {:.2f}'\n",
    "                 .format(epoch, idx+1, d_loss.item(), g_loss.item(), \n",
    "                        real_score, fake_score))\n",
    "    fake_images = fake_images.reshape(fake_images.size(0), 28, 28)\n",
    "    fake_image_id = torch.argmax(outputs, dim=0)\n",
    "    print(fake_image_id)\n",
    "    print(outputs[fake_image_id])\n",
    "    plt.imshow(fake_images[fake_image_id].detach().cpu().numpy()[0])\n",
    "    plt.show()\n",
    "    "
   ]
  },
  {
   "cell_type": "code",
   "execution_count": null,
   "metadata": {
    "collapsed": true
   },
   "outputs": [],
   "source": []
  },
  {
   "cell_type": "code",
   "execution_count": null,
   "metadata": {
    "collapsed": true
   },
   "outputs": [],
   "source": []
  },
  {
   "cell_type": "code",
   "execution_count": null,
   "metadata": {
    "collapsed": true
   },
   "outputs": [],
   "source": []
  }
 ],
 "metadata": {
  "anaconda-cloud": {},
  "kernelspec": {
   "display_name": "Python [conda env:winter]",
   "language": "python",
   "name": "conda-env-winter-py"
  },
  "language_info": {
   "codemirror_mode": {
    "name": "ipython",
    "version": 3
   },
   "file_extension": ".py",
   "mimetype": "text/x-python",
   "name": "python",
   "nbconvert_exporter": "python",
   "pygments_lexer": "ipython3",
   "version": "3.6.8"
  }
 },
 "nbformat": 4,
 "nbformat_minor": 1
}
