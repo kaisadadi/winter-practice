{
 "cells": [
  {
   "cell_type": "code",
   "execution_count": null,
   "metadata": {
    "collapsed": false
   },
   "outputs": [],
   "source": [
    "import torch\n",
    "import torch.nn as nn\n",
    "from torchvision import transforms, datasets\n",
    "import matplotlib.pyplot as plt\n",
    "%matplotlib inline\n",
    "import argparse\n",
    "import os\n",
    "\n",
    "parser = argparse.ArgumentParser()\n",
    "parser.add_argument('--gpu', type=str, default='0')\n",
    "parser.add_argument('--epoch', type=int, default='64')\n",
    "config = parser.parse_args(['--gpu', '0', '--epoch', '64'])\n",
    "\n",
    "os.environ[\"CUDA_VISIBLE_DEVICES\"] = str(config.gpu)\n",
    "device = torch.device('cuda' if torch.cuda.is_available else 'cpu')\n",
    "print(device)\n",
    "\n",
    "latent_size = 64\n",
    "hidden_size = 256\n",
    "image_size = 784\n",
    "num_epochs = 200\n",
    "batch_size = 100"
   ]
  },
  {
   "cell_type": "code",
   "execution_count": null,
   "metadata": {
    "collapsed": true
   },
   "outputs": [],
   "source": [
    "class Distinguisher(nn.Module):\n",
    "    def __init__(self):\n",
    "        super(Distinguisher, self).__init__()\n",
    "        self.net = nn.Sequential(\n",
    "            nn.Linear(image_size, hidden_size),\n",
    "            nn.LeakyReLU(0.2),\n",
    "            nn.Linear(hidden_size, hidden_size),\n",
    "            nn.LeakyReLU(0.2),\n",
    "            nn.Linear(hidden_size, 1),\n",
    "            nn.Sigmoid()\n",
    "        )\n",
    "    def forward(self, x):\n",
    "        return self.net(x)\n",
    "\n",
    "class Generator(nn.Module):\n",
    "    def __init__(self):\n",
    "        super(Generator, self).__init__()\n",
    "        self.net = nn.Sequential(\n",
    "            nn.Linear(latent_size, hidden_size),\n",
    "            nn.ReLU(),\n",
    "            nn.Linear(hidden_size, hidden_size),\n",
    "            nn.ReLU(),\n",
    "            nn.Linear(hidden_size, image_size),\n",
    "            nn.Tanh()\n",
    "        )\n",
    "    def forward(self, x):\n",
    "        return self.net(x)\n"
   ]
  },
  {
   "cell_type": "code",
   "execution_count": null,
   "metadata": {
    "collapsed": false
   },
   "outputs": [],
   "source": [
    "transform = transforms.Compose([\n",
    "        transforms.ToTensor(),\n",
    "        transforms.Normalize(mean=(0.5, 0.5, 0.5), std=(0.5, 0.5, 0.5))\n",
    "    ])\n",
    "mnist_dataset = datasets.MNIST(root=\"../../data\", train=True, \n",
    "                               download=True, transform=transform)\n",
    "data_loader = torch.utils.data.DataLoader(dataset=mnist_dataset, \n",
    "                                         batch_size=batch_size,\n",
    "                                         shuffle=True)\n",
    "G_net = Generator().cuda()\n",
    "D_net = Distinguisher().to(device)\n",
    "G_optim = torch.optim.Adam(G_net.parameters(), lr=2e-4)\n",
    "D_optim = torch.optim.Adam(D_net.parameters(), lr=2e-4)\n",
    "\n",
    "print(\"preparation done\")\n",
    "for epoch in range(config.epoch):\n",
    "    for idx, (images, _) in enumerate(data_loader):\n",
    "        images = images.reshape(batch_size, -1).to(device)\n",
    "        real_labels = torch.ones(batch_size, 1).to(device)\n",
    "        fake_labels = torch.zeros(batch_size, 1).to(device)\n",
    "        #train D_net\n",
    "        if idx % 2 == 0:\n",
    "            outputs = D_net(images)\n",
    "            d_loss = nn.BCELoss()(outputs, real_labels)\n",
    "            real_score = torch.mean(outputs).item()\n",
    "        \n",
    "            gaussian_noise = torch.randn(batch_size, latent_size).to(device)\n",
    "            fake_images = G_net(gaussian_noise)\n",
    "            print(fake_images.shape)\n",
    "            outputs = D_net(fake_images.view(batch_size, -1))\n",
    "            d_loss += nn.BCELoss()(outputs, fake_labels)\n",
    "        \n",
    "            G_optim.zero_grad()\n",
    "            D_optim.zero_grad()\n",
    "            d_loss.backward()\n",
    "            D_optim.step()\n",
    "        \n",
    "        #train G_net\n",
    "        gaussian_noise = torch.randn(batch_size, latent_size).to(device)\n",
    "        fake_images = G_net(gaussian_noise)\n",
    "        outputs = D_net(fake_images.view(batch_size, -1))\n",
    "        fake_score = torch.mean(outputs).item()\n",
    "        g_loss = nn.BCELoss()(outputs, real_labels)\n",
    "        G_optim.zero_grad()\n",
    "        D_optim.zero_grad()\n",
    "        g_loss.backward()\n",
    "        G_optim.step()\n",
    "        \n",
    "        if (idx + 1) % 100 == 0:\n",
    "            print('epoch: {}, step: {}, d_loss: {:.4f}, g_loss:{:.4f}, real_score: {:.2f},fake_score: {:.2f}'\n",
    "                 .format(epoch, idx+1, d_loss.item(), g_loss.item(), \n",
    "                        real_score, fake_score))\n",
    "    fake_images = fake_images.reshape(fake_images.size(0), 28, 28)\n",
    "    fake_image_id = torch.argmax(outputs, dim=0)\n",
    "    print(fake_image_id)\n",
    "    print(outputs[fake_image_id])\n",
    "    plt.imshow(fake_images[fake_image_id].detach().cpu().numpy()[0])\n",
    "    plt.show()\n",
    "    "
   ]
  },
  {
   "cell_type": "code",
   "execution_count": null,
   "metadata": {
    "collapsed": true
   },
   "outputs": [],
   "source": []
  },
  {
   "cell_type": "code",
   "execution_count": null,
   "metadata": {
    "collapsed": true
   },
   "outputs": [],
   "source": []
  },
  {
   "cell_type": "code",
   "execution_count": null,
   "metadata": {
    "collapsed": true
   },
   "outputs": [],
   "source": []
  }
 ],
 "metadata": {
  "anaconda-cloud": {},
  "kernelspec": {
   "display_name": "Python [conda env:winter]",
   "language": "python",
   "name": "conda-env-winter-py"
  }
 },
 "nbformat": 4,
 "nbformat_minor": 1
}
